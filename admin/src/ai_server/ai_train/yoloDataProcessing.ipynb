{
 "cells": [
  {
   "cell_type": "code",
   "execution_count": 1,
   "id": "883bf974",
   "metadata": {},
   "outputs": [],
   "source": [
    "import xml.etree.ElementTree as ET\n",
    "import os\n",
    "import glob\n",
    "import shutil\n",
    "import random\n",
    "import json\n",
    "import yaml\n",
    "import cv2\n",
    "import easyocr\n",
    "from tqdm import tqdm"
   ]
  },
  {
   "cell_type": "markdown",
   "id": "76f35f5f",
   "metadata": {},
   "source": [
    "### 보행자 데이터 전처리"
   ]
  },
  {
   "cell_type": "code",
   "execution_count": 25,
   "id": "68975815",
   "metadata": {},
   "outputs": [],
   "source": [
    "city = ['서울특별시']\n",
    "gu = ['영등포구', '종로구', '중구', '용산구', '성동구', '광진구', '동대문구', '중랑구', '성북구', '강북구', '도봉구', '노원구','은평구', \\\n",
    "  '서대문구', '마포구', '양천구', '강서구', '구로구','금천구', '동작구', '관악구', '서초구', '강남구', '송파구', '강동구']\n",
    "weather = ['맑음']\n",
    "gan = ['주간', '야간']\n",
    "sil = ['실내', '실외']"
   ]
  },
  {
   "cell_type": "code",
   "execution_count": 23,
   "id": "29b572b5",
   "metadata": {},
   "outputs": [],
   "source": [
    "root_folder = '/home/pepsi/Downloads/pedestrian_detection/label'\n",
    "change_folder = '/home/pepsi/Downloads/pedestrian_detection/labels'\n",
    "\n",
    "if not os.path.exists(change_folder):\n",
    "      os.makedirs(change_folder)\n",
    "\n",
    "file_list = os.listdir(root_folder)\n",
    "for file in file_list:\n",
    "  name, ext = file.split('.')\n",
    "  p = name.split(\"_\")\n",
    "  p[1] = str(city.index(p[1]))\n",
    "  p[3] = f\"{gu.index(p[3]):02d}\"\n",
    "  p[4] = str(weather.index(p[4]))\n",
    "  p[5] = str(gan.index(p[5]))\n",
    "  p[6] = str(sil.index(p[6]))\n",
    "  new_name = \"_\".join(p) + '.' + ext\n",
    "  shutil.copyfile(os.path.join(root_folder, file), os.path.join(change_folder, new_name))"
   ]
  },
  {
   "cell_type": "code",
   "execution_count": 27,
   "id": "fde508f3",
   "metadata": {},
   "outputs": [],
   "source": [
    "root_folder = '/home/pepsi/Downloads/pedestrian_detection/image'\n",
    "change_folder = '/home/pepsi/Downloads/pedestrian_detection/images'\n",
    "\n",
    "if not os.path.exists(change_folder):\n",
    "      os.makedirs(change_folder)\n",
    "\n",
    "file_list = os.listdir(root_folder)\n",
    "for file in file_list:\n",
    "  name, ext = file.split('.')\n",
    "  p = name.split(\"_\")\n",
    "  p[1] = str(city.index(p[1]))\n",
    "  p[3] = f\"{gu.index(p[3]):02d}\"\n",
    "  p[4] = str(weather.index(p[4]))\n",
    "  p[5] = str(gan.index(p[5]))\n",
    "  p[6] = str(sil.index(p[6]))\n",
    "  new_name = \"_\".join(p) + '.' + ext\n",
    "  shutil.copyfile(os.path.join(root_folder, file), os.path.join(change_folder, new_name))"
   ]
  },
  {
   "cell_type": "code",
   "execution_count": 6,
   "id": "7ed202d4",
   "metadata": {},
   "outputs": [],
   "source": [
    "def xml_to_yolo_bbox(bbox, w, h):\n",
    "    # xmin, ymin, xmax, ymax\n",
    "    x_center = float(((bbox[2] + bbox[0]) / 2) / w)\n",
    "    y_center = float(((bbox[3] + bbox[1]) / 2) / h)\n",
    "    width = float((bbox[2] - bbox[0]) / w)\n",
    "    height = float((bbox[3] - bbox[1]) / h)\n",
    "    return [x_center, y_center, width, height]"
   ]
  },
  {
   "cell_type": "code",
   "execution_count": 30,
   "id": "db40baf7",
   "metadata": {},
   "outputs": [],
   "source": [
    "label_folder = '/home/pepsi/Downloads/pedestrian_detection/labels/'\n",
    "new_folder = '/home/pepsi/Downloads/pedestrian_detection/new_labels/'\n",
    "\n",
    "if not os.path.isdir(new_folder):\n",
    "    os.mkdir(new_folder)\n",
    "\n",
    "classes = ['pedestrian']\n",
    "label_list = os.listdir(label_folder)\n",
    "for file in label_list:\n",
    "    with open(os.path.join(label_folder, file), 'r') as json_file:\n",
    "        lab = json.load(json_file)\n",
    "        h = int(lab['camera']['resolution_height'])\n",
    "        w = int(lab['camera']['resolution_width'])\n",
    "        f = open(os.path.join(new_folder, file[:-4]+'txt'),'a')\n",
    "        for l in lab['annotations']:\n",
    "            if l['label'] == '보행자':\n",
    "                idx = 0\n",
    "                points = l['points']\n",
    "                yolo_bbox = xml_to_yolo_bbox([int(points[0][0]), int(points[0][1]), int(points[2][0]), int(points[2][1])], w,h)\n",
    "                bbox_string = \" \".join([str(x) for x in yolo_bbox])\n",
    "                result = f\"{idx} {bbox_string}\\n\"\n",
    "                f.write(result)\n",
    "        f.close()    "
   ]
  },
  {
   "cell_type": "code",
   "execution_count": 32,
   "id": "4b9ade6f",
   "metadata": {},
   "outputs": [],
   "source": [
    "if os.path.isdir('/home/pepsi/Downloads/pedestrian_detection/train'):\n",
    "    shutil.rmtree('/home/pepsi/Downloads/pedestrian_detection/train')\n",
    "if os.path.isdir('/home/pepsi/Downloads/pedestrian_detection/val'):    \n",
    "    shutil.rmtree('/home/pepsi/Downloads/pedestrian_detection/val')\n",
    "\n",
    "folder_list = ['/home/pepsi/Downloads/pedestrian_detection/train', '/home/pepsi/Downloads/pedestrian_detection/val', '/home/pepsi/Downloads/pedestrian_detection/train/images', '/home/pepsi/Downloads/pedestrian_detection/train/labels', '/home/pepsi/Downloads/pedestrian_detection/val/images', '/home/pepsi/Downloads/pedestrian_detection/val/labels']\n",
    "for folder in folder_list:\n",
    "    if not os.path.isdir(folder):\n",
    "        os.mkdir(folder)"
   ]
  },
  {
   "cell_type": "code",
   "execution_count": 33,
   "id": "de786795",
   "metadata": {},
   "outputs": [],
   "source": [
    "random.seed(2020)\n",
    "\n",
    "root_folder = \"/home/pepsi/Downloads/pedestrian_detection\"\n",
    "file_folder = '/home/pepsi/Downloads/pedestrian_detection/new_labels'\n",
    "\n",
    "file_list = os.listdir(file_folder)\n",
    "random.shuffle(file_list)\n",
    "test_ratio = 0.1\n",
    "\n",
    "val_list = file_list[:int(len(file_list)*test_ratio)]\n",
    "train_list = file_list[int(len(file_list)*test_ratio):]\n",
    "\n",
    "for i in val_list:\n",
    "    from_file_path = os.path.join(root_folder, 'images', i[:-4]+'.png')\n",
    "    to_file_path =  os.path.join(root_folder, 'val/images/',i[:-4]+'.png')\n",
    "    shutil.copyfile(from_file_path, to_file_path)\n",
    "    from_file_path = os.path.join(root_folder, file_folder, i)\n",
    "    to_file_path =  os.path.join(root_folder, 'val/labels/',i)\n",
    "    shutil.copyfile(from_file_path, to_file_path)\n",
    "\n",
    "for i in train_list:\n",
    "    from_file_path = os.path.join(root_folder, 'images', i[:-4]+'.png')\n",
    "    to_file_path =  os.path.join(root_folder, 'train/images/',i[:-4]+'.png')\n",
    "    shutil.copyfile(from_file_path, to_file_path)\n",
    "    from_file_path = os.path.join(root_folder, file_folder, i)\n",
    "    to_file_path =  os.path.join(root_folder, 'train/labels/',i)\n",
    "    shutil.copyfile(from_file_path, to_file_path)"
   ]
  },
  {
   "cell_type": "markdown",
   "id": "7a2aeb8c",
   "metadata": {},
   "source": [
    "### 속도 표지판 전처리"
   ]
  },
  {
   "cell_type": "code",
   "execution_count": 49,
   "id": "461dac68",
   "metadata": {},
   "outputs": [],
   "source": [
    "road_sign_root = \"/home/pepsi/Downloads/road_sign\"\n",
    "annot_path = os.path.join(road_sign_root,\"annotations\")\n",
    "img_path = os.path.join(road_sign_root,\"images\")\n",
    "label_path = os.path.join(road_sign_root,\"labels\")\n",
    "\n",
    "if not os.path.exists(label_path):\n",
    "    os.makedirs(label_path)"
   ]
  },
  {
   "cell_type": "code",
   "execution_count": 50,
   "id": "8e536338",
   "metadata": {},
   "outputs": [
    {
     "name": "stderr",
     "output_type": "stream",
     "text": [
      "Using CPU. Note: This module is much faster with a GPU.\n"
     ]
    },
    {
     "name": "stderr",
     "output_type": "stream",
     "text": [
      "100%|██████████| 877/877 [01:30<00:00,  9.66it/s]\n"
     ]
    }
   ],
   "source": [
    "reader = easyocr.Reader(['en'], gpu=False)\n",
    "\n",
    "speed_class_map = {\n",
    "    30: 2,\n",
    "    60: 3\n",
    "}\n",
    "\n",
    "files = glob.glob(os.path.join(annot_path, '*.xml'))\n",
    "for fil in tqdm(files):\n",
    "    filename = os.path.splitext(os.path.basename(fil))[0]\n",
    "    img_file = os.path.join(img_path, f\"{filename}.png\")\n",
    "    if not os.path.exists(img_file):\n",
    "        continue\n",
    "\n",
    "    img = cv2.imread(img_file)\n",
    "    if img is None:\n",
    "        continue\n",
    "\n",
    "    tree = ET.parse(fil)\n",
    "    root = tree.getroot()\n",
    "    width = int(root.find(\"size\").find(\"width\").text)\n",
    "    height = int(root.find(\"size\").find(\"height\").text)\n",
    "\n",
    "    result = []\n",
    "\n",
    "    for obj in root.findall('object'):\n",
    "        if obj.find(\"name\").text.lower() != 'speedlimit':\n",
    "            continue\n",
    "\n",
    "        bbox = [int(obj.find(\"bndbox\").find(tag).text) for tag in ['xmin', 'ymin', 'xmax', 'ymax']]\n",
    "        xmin, ymin, xmax, ymax = bbox\n",
    "        cropped = img[ymin:ymax, xmin:xmax]\n",
    "\n",
    "        # OCR 적용\n",
    "        ocr_result = reader.readtext(cropped, detail=0)\n",
    "        digits = [int(txt) for txt in ocr_result if txt.isdigit()]\n",
    "\n",
    "        if not digits:\n",
    "            continue\n",
    "\n",
    "        speed = digits[0]\n",
    "        if speed not in speed_class_map:\n",
    "            continue\n",
    "\n",
    "        class_index = speed_class_map[speed]\n",
    "        yolo_bbox = xml_to_yolo_bbox(bbox, width, height)\n",
    "        bbox_string = \" \".join([str(x) for x in yolo_bbox])\n",
    "        result.append(f\"{class_index} {bbox_string}\")\n",
    "\n",
    "    if result:\n",
    "        os.makedirs(label_path, exist_ok=True)\n",
    "        with open(os.path.join(label_path, f\"{filename}.txt\"), \"w\", encoding=\"utf-8\") as f:\n",
    "            f.write(\"\\n\".join(result))"
   ]
  },
  {
   "cell_type": "code",
   "execution_count": 51,
   "id": "fdd1e977",
   "metadata": {},
   "outputs": [],
   "source": [
    "road_sign_path = \"/home/pepsi/Downloads/road_sign\"\n",
    "label_ = '.txt'\n",
    "img_ = '.png'\n",
    "\n",
    "# 저장 경로 만들기\n",
    "folder_list = ['/home/pepsi/Downloads/road_sign/road_sign_detection/train', '/home/pepsi/Downloads/road_sign/road_sign_detection/val', '/home/pepsi/Downloads/road_sign/road_sign_detection/train/images', \\\n",
    "                '/home/pepsi/Downloads/road_sign/road_sign_detection/train/labels', '/home/pepsi/Downloads/road_sign/road_sign_detection/val/images', '/home/pepsi/Downloads/road_sign/road_sign_detection/val/labels']\n",
    "for folder in folder_list:\n",
    "    if not os.path.exists(folder):\n",
    "        os.makedirs(folder)"
   ]
  },
  {
   "cell_type": "code",
   "execution_count": 52,
   "id": "41d5a656",
   "metadata": {},
   "outputs": [
    {
     "name": "stdout",
     "output_type": "stream",
     "text": [
      "train의 개수 : 790, test의 개수 : 87\n"
     ]
    }
   ],
   "source": [
    "file_list = os.listdir(os.path.join(road_sign_path, 'images'))\n",
    "random.shuffle(file_list)\n",
    "\n",
    "test_ratio = 0.1\n",
    "test_list = file_list[:int(len(file_list) * test_ratio)]\n",
    "train_list = file_list[int(len(file_list) * test_ratio):]\n",
    "\n",
    "print(f\"train의 개수 : {len(train_list)}, test의 개수 : {len(test_list)}\")\n",
    "\n",
    "# 경로 미리 설정\n",
    "val_img_dir = '/home/pepsi/Downloads/road_sign/road_sign_detection/val/images'\n",
    "val_label_dir = '/home/pepsi/Downloads/road_sign/road_sign_detection/val/labels'\n",
    "train_img_dir = '/home/pepsi/Downloads/road_sign/road_sign_detection/train/images'\n",
    "train_label_dir = '/home/pepsi/Downloads/road_sign/road_sign_detection/train/labels'\n",
    "\n",
    "def copy_if_label_exists(file_list, dest_img_dir, dest_label_dir):\n",
    "    for i in file_list:\n",
    "        f_name = os.path.splitext(i)[0]\n",
    "        label_file = os.path.join(road_sign_path, 'labels', f_name + label_)\n",
    "        if not os.path.exists(label_file):\n",
    "            # 라벨 파일 없으면 스킵\n",
    "            continue\n",
    "\n",
    "        src_img = os.path.join(road_sign_path, 'images', f_name + img_)\n",
    "        dst_img = os.path.join(dest_img_dir, f_name + img_)\n",
    "        dst_label = os.path.join(dest_label_dir, f_name + label_)\n",
    "\n",
    "        shutil.copyfile(src_img, dst_img)\n",
    "        shutil.copyfile(label_file, dst_label)\n",
    "\n",
    "# 복사 수행\n",
    "copy_if_label_exists(test_list, val_img_dir, val_label_dir)\n",
    "copy_if_label_exists(train_list, train_img_dir, train_label_dir)"
   ]
  },
  {
   "cell_type": "markdown",
   "id": "070ff8e3",
   "metadata": {},
   "source": [
    "### 제작 데이터 전처리"
   ]
  },
  {
   "cell_type": "code",
   "execution_count": 3,
   "id": "1292641e",
   "metadata": {},
   "outputs": [],
   "source": [
    "root_folder = '/home/pepsi/Downloads/etc_detection/'\n",
    "change_folder = '/home/pepsi/Downloads/etc_detection/labels'\n",
    "\n",
    "if not os.path.exists(change_folder):\n",
    "      os.makedirs(change_folder)\n",
    "\n",
    "file_list = glob.glob(root_folder + \"*.json\")\n",
    "file_list\n",
    "for file in file_list:\n",
    "  fiie = file.split('/')[-1]\n",
    "  shutil.move(os.path.join(root_folder, file), os.path.join(change_folder, fiie))"
   ]
  },
  {
   "cell_type": "code",
   "execution_count": 4,
   "id": "c6acc8eb",
   "metadata": {},
   "outputs": [],
   "source": [
    "root_folder = '/home/pepsi/Downloads/etc_detection/'\n",
    "change_folder = '/home/pepsi/Downloads/etc_detection/images'\n",
    "\n",
    "if not os.path.exists(change_folder):\n",
    "      os.makedirs(change_folder)\n",
    "\n",
    "file_list = glob.glob(root_folder + \"*.png\")\n",
    "file_list\n",
    "for file in file_list:\n",
    "  fiie = file.split('/')[-1]\n",
    "  shutil.move(os.path.join(root_folder, file), os.path.join(change_folder, fiie))"
   ]
  },
  {
   "cell_type": "code",
   "execution_count": 8,
   "id": "ae8d1b8a",
   "metadata": {},
   "outputs": [],
   "source": [
    "label_folder = '/home/pepsi/Downloads/etc_detection/labels/'\n",
    "new_folder = '/home/pepsi/Downloads/etc_detection/new_labels/'\n",
    "\n",
    "if not os.path.isdir(new_folder):\n",
    "    os.mkdir(new_folder)\n",
    "\n",
    "classes = ['pedestrian']\n",
    "label_list = os.listdir(label_folder)\n",
    "for file in label_list:\n",
    "    with open(os.path.join(label_folder, file), 'r') as json_file:\n",
    "        lab = json.load(json_file)\n",
    "        h = int(lab['imageWidth'])\n",
    "        w = int(lab['imageHeight'])\n",
    "        f = open(os.path.join(new_folder, file[:-4]+'txt'),'a')\n",
    "        for l in lab['shapes']:\n",
    "            if l['label'] == '정지선':\n",
    "                idx = 4\n",
    "            elif l['label'] == '횡단보도':\n",
    "                idx = 5\n",
    "            elif l['label'] == '빨간불':\n",
    "                idx = 6\n",
    "            elif l['label'] == '노란불':\n",
    "                idx = 7\n",
    "            elif l['label'] == '초록불':\n",
    "                dix = 8\n",
    "            else:\n",
    "                continue\n",
    "            \n",
    "            points = l['points']\n",
    "            yolo_bbox = xml_to_yolo_bbox([int(points[0][0]), int(points[0][1]), int(points[2][0]), int(points[2][1])], w,h)\n",
    "            bbox_string = \" \".join([str(x) for x in yolo_bbox])\n",
    "            result = f\"{idx} {bbox_string}\\n\"\n",
    "            f.write(result)\n",
    "        f.close()    "
   ]
  },
  {
   "cell_type": "code",
   "execution_count": 9,
   "id": "bcaee113",
   "metadata": {},
   "outputs": [],
   "source": [
    "if os.path.isdir('/home/pepsi/Downloads/etc_detection/train'):\n",
    "    shutil.rmtree('/home/pepsi/Downloads/etc_detection/train')\n",
    "if os.path.isdir('/home/pepsi/Downloads/etc_detection/val'):    \n",
    "    shutil.rmtree('/home/pepsi/Downloads/etc_detection/val')\n",
    "\n",
    "folder_list = ['/home/pepsi/Downloads/etc_detection/train', '/home/pepsi/Downloads/etc_detection/val', '/home/pepsi/Downloads/etc_detection/train/images', '/home/pepsi/Downloads/etc_detection/train/labels', '/home/pepsi/Downloads/etc_detection/val/images', '/home/pepsi/Downloads/etc_detection/val/labels']\n",
    "for folder in folder_list:\n",
    "    if not os.path.isdir(folder):\n",
    "        os.mkdir(folder)"
   ]
  },
  {
   "cell_type": "code",
   "execution_count": 10,
   "id": "e8dd5ba5",
   "metadata": {},
   "outputs": [],
   "source": [
    "random.seed(2020)\n",
    "\n",
    "root_folder = \"/home/pepsi/Downloads/etc_detection\"\n",
    "file_folder = '/home/pepsi/Downloads/etc_detection/new_labels'\n",
    "\n",
    "file_list = os.listdir(file_folder)\n",
    "random.shuffle(file_list)\n",
    "test_ratio = 0.1\n",
    "\n",
    "val_list = file_list[:int(len(file_list)*test_ratio)]\n",
    "train_list = file_list[int(len(file_list)*test_ratio):]\n",
    "\n",
    "for i in val_list:\n",
    "    from_file_path = os.path.join(root_folder, 'images', i[:-4]+'.png')\n",
    "    to_file_path =  os.path.join(root_folder, 'val/images/',i[:-4]+'.png')\n",
    "    shutil.copyfile(from_file_path, to_file_path)\n",
    "    from_file_path = os.path.join(root_folder, file_folder, i)\n",
    "    to_file_path =  os.path.join(root_folder, 'val/labels/',i)\n",
    "    shutil.copyfile(from_file_path, to_file_path)\n",
    "\n",
    "for i in train_list:\n",
    "    from_file_path = os.path.join(root_folder, 'images', i[:-4]+'.png')\n",
    "    to_file_path =  os.path.join(root_folder, 'train/images/',i[:-4]+'.png')\n",
    "    shutil.copyfile(from_file_path, to_file_path)\n",
    "    from_file_path = os.path.join(root_folder, file_folder, i)\n",
    "    to_file_path =  os.path.join(root_folder, 'train/labels/',i)\n",
    "    shutil.copyfile(from_file_path, to_file_path)"
   ]
  },
  {
   "cell_type": "code",
   "execution_count": 61,
   "id": "df9faa6d",
   "metadata": {},
   "outputs": [],
   "source": [
    "data =dict()\n",
    "\n",
    "data['train'] = '/home/pepsi/dev_ws/ros-repo-5/admin/src/ai_server/ai_train/dataset/drive_detection/train'\n",
    "data['val'] = '/home/pepsi/dev_ws/ros-repo-5/admin/src/ai_server/ai_train/dataset/drive_detection/val'\n",
    "data['test'] = ''\n",
    "\n",
    "data['nc'] = 9\n",
    "data['names'] =['Pedestrian','Car', '30Limit', '60Limit', 'Stop', 'Crosswlaker', 'redTrafficSign', 'yelloTrafficSign', 'greenTrafficSign']\n",
    "\n",
    "with open('/home/pepsi/dev_ws/ros-repo-5/admin/src/ai_server/ai_train/dataset/drive_detection/car_detection.yaml', 'w') as f:\n",
    "\tyaml.dump(data, f)"
   ]
  }
 ],
 "metadata": {
  "kernelspec": {
   "display_name": "addin-taxi",
   "language": "python",
   "name": "python3"
  },
  "language_info": {
   "codemirror_mode": {
    "name": "ipython",
    "version": 3
   },
   "file_extension": ".py",
   "mimetype": "text/x-python",
   "name": "python",
   "nbconvert_exporter": "python",
   "pygments_lexer": "ipython3",
   "version": "3.12.3"
  }
 },
 "nbformat": 4,
 "nbformat_minor": 5
}
