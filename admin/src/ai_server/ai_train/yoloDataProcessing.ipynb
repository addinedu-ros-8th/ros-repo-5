{
 "cells": [
  {
   "cell_type": "code",
   "execution_count": 8,
   "id": "883bf974",
   "metadata": {},
   "outputs": [],
   "source": [
    "import os\n",
    "import glob\n",
    "import shutil\n",
    "import random\n",
    "import json\n",
    "import yaml\n",
    "import numpy as np"
   ]
  },
  {
   "cell_type": "markdown",
   "id": "070ff8e3",
   "metadata": {},
   "source": [
    "### 제작 데이터 전처리"
   ]
  },
  {
   "cell_type": "code",
   "execution_count": 4,
   "id": "f6d67c38",
   "metadata": {},
   "outputs": [],
   "source": [
    "def xml_to_yolo_bbox(bbox, w, h):\n",
    "    # xmin, ymin, xmax, ymax\n",
    "    x_center = float(((bbox[2] + bbox[0]) / 2) / w)\n",
    "    y_center = float(((bbox[3] + bbox[1]) / 2) / h)\n",
    "    width = float((bbox[2] - bbox[0]) / w)\n",
    "    height = float((bbox[3] - bbox[1]) / h)\n",
    "    return [x_center, y_center, width, height]"
   ]
  },
  {
   "cell_type": "code",
   "execution_count": 2,
   "id": "1292641e",
   "metadata": {},
   "outputs": [],
   "source": [
    "root_folder = '/home/pepsi/Downloads/labelme/'\n",
    "change_folder = '/home/pepsi/Downloads/labelme/labels'\n",
    "\n",
    "if not os.path.exists(change_folder):\n",
    "      os.makedirs(change_folder)\n",
    "\n",
    "file_list = glob.glob(root_folder + \"*.json\")\n",
    "for file in file_list:\n",
    "  fiie = file.split('/')[-1]\n",
    "  shutil.move(os.path.join(root_folder, file), os.path.join(change_folder, fiie))"
   ]
  },
  {
   "cell_type": "code",
   "execution_count": 3,
   "id": "c6acc8eb",
   "metadata": {},
   "outputs": [],
   "source": [
    "root_folder = '/home/pepsi/Downloads/labelme/'\n",
    "change_folder = '/home/pepsi/Downloads/labelme/images'\n",
    "\n",
    "if not os.path.exists(change_folder):\n",
    "      os.makedirs(change_folder)\n",
    "\n",
    "file_list = glob.glob(root_folder + \"*.png\")\n",
    "file_list\n",
    "for file in file_list:\n",
    "  fiie = file.split('/')[-1]\n",
    "  shutil.move(os.path.join(root_folder, file), os.path.join(change_folder, fiie))"
   ]
  },
  {
   "cell_type": "code",
   "execution_count": 9,
   "id": "ae8d1b8a",
   "metadata": {},
   "outputs": [],
   "source": [
    "import os\n",
    "import json\n",
    "\n",
    "label_folder = '/home/pepsi/Downloads/labelme/labels/'\n",
    "new_folder = '/home/pepsi/Downloads/labelme/new_labels/'\n",
    "\n",
    "if not os.path.isdir(new_folder):\n",
    "    os.mkdir(new_folder)\n",
    "\n",
    "classes = ['solid', 'center', 'dotted', 'stopline', 'crosswalk', 'pinky', \n",
    "           'speedlimit_30', 'speedlimit_60', 'redlight', 'yellowlight', \n",
    "           'greenlight', 'pedesrian']\n",
    "\n",
    "label_list = os.listdir(label_folder)\n",
    "\n",
    "for file in label_list:\n",
    "    with open(os.path.join(label_folder, file), 'r') as json_file:\n",
    "        lab = json.load(json_file)\n",
    "        w = int(lab['imageWidth'])\n",
    "        h = int(lab['imageHeight'])\n",
    "        f = open(os.path.join(new_folder, file.replace('.json', '.txt')), 'w')\n",
    "\n",
    "        for shape in lab['shapes']:\n",
    "            label = shape['label']\n",
    "            if label.isdigit() and int(label) < len(classes):\n",
    "                idx = int(label)\n",
    "            else:\n",
    "                continue\n",
    "\n",
    "            points = shape['points']\n",
    "            segmentation = []\n",
    "\n",
    "            for x, y in points:\n",
    "                x_norm = x / w\n",
    "                y_norm = y / h\n",
    "                segmentation.extend([round(x_norm, 6), round(y_norm, 6)])\n",
    "\n",
    "            # YOLO Segmentation format: class_id x1 y1 x2 y2 ... xn yn\n",
    "            result = f\"{idx} \" + \" \".join(map(str, segmentation)) + \"\\n\"\n",
    "            f.write(result)\n",
    "        f.close()"
   ]
  },
  {
   "cell_type": "code",
   "execution_count": 10,
   "id": "bcaee113",
   "metadata": {},
   "outputs": [],
   "source": [
    "if os.path.isdir('/home/pepsi/Downloads/labelme/train'):\n",
    "    shutil.rmtree('/home/pepsi/Downloads/labelme/train')\n",
    "if os.path.isdir('/home/pepsi/Downloads/labelme/val'):    \n",
    "    shutil.rmtree('/home/pepsi/Downloads/labelme/val')\n",
    "\n",
    "folder_list = ['/home/pepsi/Downloads/labelme/train', '/home/pepsi/Downloads/labelme/val', '/home/pepsi/Downloads/labelme/train/images', '/home/pepsi/Downloads/labelme/train/labels', '/home/pepsi/Downloads/labelme/val/images', '/home/pepsi/Downloads/labelme/val/labels']\n",
    "for folder in folder_list:\n",
    "    if not os.path.isdir(folder):\n",
    "        os.mkdir(folder)"
   ]
  },
  {
   "cell_type": "code",
   "execution_count": 11,
   "id": "e8dd5ba5",
   "metadata": {},
   "outputs": [],
   "source": [
    "random.seed(2020)\n",
    "\n",
    "root_folder = \"/home/pepsi/Downloads/labelme\"\n",
    "file_folder = '/home/pepsi/Downloads/labelme/new_labels'\n",
    "\n",
    "file_list = os.listdir(file_folder)\n",
    "random.shuffle(file_list)\n",
    "test_ratio = 0.1\n",
    "\n",
    "val_list = file_list[:int(len(file_list)*test_ratio)]\n",
    "train_list = file_list[int(len(file_list)*test_ratio):]\n",
    "\n",
    "for i in val_list:\n",
    "    from_file_path = os.path.join(root_folder, 'images', i[:-4]+'.png')\n",
    "    to_file_path =  os.path.join(root_folder, 'val/images/',i[:-4]+'.png')\n",
    "    shutil.copyfile(from_file_path, to_file_path)\n",
    "    from_file_path = os.path.join(root_folder, file_folder, i)\n",
    "    to_file_path =  os.path.join(root_folder, 'val/labels/',i)\n",
    "    shutil.copyfile(from_file_path, to_file_path)\n",
    "\n",
    "for i in train_list:\n",
    "    from_file_path = os.path.join(root_folder, 'images', i[:-4]+'.png')\n",
    "    to_file_path =  os.path.join(root_folder, 'train/images/',i[:-4]+'.png')\n",
    "    shutil.copyfile(from_file_path, to_file_path)\n",
    "    from_file_path = os.path.join(root_folder, file_folder, i)\n",
    "    to_file_path =  os.path.join(root_folder, 'train/labels/',i)\n",
    "    shutil.copyfile(from_file_path, to_file_path)"
   ]
  },
  {
   "cell_type": "code",
   "execution_count": 12,
   "id": "df9faa6d",
   "metadata": {},
   "outputs": [],
   "source": [
    "data =dict()\n",
    "\n",
    "data['train'] = '/home/pepsi/Downloads/labelme/train'\n",
    "data['val'] = '/home/pepsi/Downloads/labelme/val'\n",
    "data['test'] = ''\n",
    "\n",
    "data['nc'] = 12\n",
    "data['names'] =['solid','center', 'dotted', 'stopline', 'crosswlaker', 'pinky', 'speedlimit_30', 'speedlimit_60', 'redlight', 'yellowlight', 'greenlight', 'pedesrian']\n",
    "\n",
    "with open('/home/pepsi/Downloads/labelme/data.yaml', 'w') as f:\n",
    "\tyaml.dump(data, f)"
   ]
  }
 ],
 "metadata": {
  "kernelspec": {
   "display_name": "addin-taxi",
   "language": "python",
   "name": "python3"
  },
  "language_info": {
   "codemirror_mode": {
    "name": "ipython",
    "version": 3
   },
   "file_extension": ".py",
   "mimetype": "text/x-python",
   "name": "python",
   "nbconvert_exporter": "python",
   "pygments_lexer": "ipython3",
   "version": "3.12.3"
  }
 },
 "nbformat": 4,
 "nbformat_minor": 5
}
