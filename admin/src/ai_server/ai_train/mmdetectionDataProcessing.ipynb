{
 "cells": [
  {
   "cell_type": "markdown",
   "id": "e9a98799",
   "metadata": {},
   "source": [
    "### 필요한 라이브러리 로드"
   ]
  },
  {
   "cell_type": "code",
   "execution_count": 1,
   "id": "ffc6b8d6",
   "metadata": {},
   "outputs": [],
   "source": [
    "import xml.etree.ElementTree as ET\n",
    "import os\n",
    "import glob\n",
    "import shutil\n",
    "import random\n",
    "import json\n",
    "import cv2\n",
    "import easyocr\n",
    "from tqdm import tqdm"
   ]
  },
  {
   "cell_type": "code",
   "execution_count": 3,
   "id": "4dd3c8ca",
   "metadata": {},
   "outputs": [],
   "source": [
    "root_dir = \"/home/pepsi/Downloads/mmdetection_data\"\n",
    "json_dir = glob.glob(root_dir + \"/*.json\")\n",
    "xml_dir = glob.glob(root_dir + \"/*.xml\")\n",
    "image_dir = glob.glob(root_dir + \"/*.png\")\n",
    "output_dir = \"/home/pepsi/Downloads/output\"\n",
    "split_ratio = 0.8\n",
    "\n",
    "os.makedirs(output_dir, exist_ok=True)"
   ]
  },
  {
   "cell_type": "code",
   "execution_count": 4,
   "id": "619fe3eb",
   "metadata": {},
   "outputs": [],
   "source": [
    "train_img_dir = output_dir + \"/images/train\"\n",
    "val_img_dir = output_dir + \"/images/val\"\n",
    "\n",
    "os.makedirs(train_img_dir, exist_ok=True)\n",
    "os.makedirs(val_img_dir, exist_ok=True)"
   ]
  },
  {
   "cell_type": "code",
   "execution_count": 5,
   "id": "4891b5e4",
   "metadata": {},
   "outputs": [],
   "source": [
    "label_map = {\n",
    "    \"보행자\": 0,\n",
    "    \"핑키\": 1,\n",
    "    \"30제한\": 2,\n",
    "    \"60제한\": 3,\n",
    "    \"정지선\": 4,\n",
    "    \"횡단보도\": 5,\n",
    "    \"빨간불\": 6,\n",
    "    \"노란불\": 7,\n",
    "    \"초록불\": 8\n",
    "}\n",
    "\n",
    "coco = {\n",
    "    \"images\": [],\n",
    "    \"annotations\": [],\n",
    "    \"categories\": [{\"id\": v, \"name\": k} for k, v in label_map.items()]\n",
    "}\n",
    "\n",
    "image_id = 1\n",
    "annotation_id = 1\n",
    "\n",
    "reader = easyocr.Reader(['en'], gpu=True)"
   ]
  },
  {
   "cell_type": "code",
   "execution_count": 7,
   "id": "155e4902",
   "metadata": {},
   "outputs": [
    {
     "name": "stderr",
     "output_type": "stream",
     "text": [
      "100%|██████████| 7104/7104 [00:02<00:00, 2384.32it/s]\n"
     ]
    }
   ],
   "source": [
    "# 🔹 JSON 처리 (LabelMe + AIHub)\n",
    "for json_path in tqdm(json_dir):\n",
    "    with open(json_path, \"r\", encoding=\"utf-8\") as f:\n",
    "        data = json.load(f)\n",
    "\n",
    "    if \"annotations\" in data:  # AIHub\n",
    "        file_name = data[\"filename\"]\n",
    "        width = int(data[\"camera\"][\"resolution_width\"])\n",
    "        height = int(data[\"camera\"][\"resolution_height\"])\n",
    "        annotations = data[\"annotations\"]\n",
    "\n",
    "    elif \"shapes\" in data:  # LabelMe\n",
    "        file_name = data[\"imagePath\"]\n",
    "        width = int(data.get(\"imageWidth\", 1920))\n",
    "        height = int(data.get(\"imageHeight\", 1080))\n",
    "        annotations = data[\"shapes\"]\n",
    "    else:\n",
    "        continue\n",
    "\n",
    "    coco[\"images\"].append({\n",
    "        \"id\": image_id,\n",
    "        \"file_name\": file_name,\n",
    "        \"width\": width,\n",
    "        \"height\": height\n",
    "    })\n",
    "\n",
    "    for ann in annotations:\n",
    "        label = ann.get(\"label\")\n",
    "        if label not in label_map:\n",
    "            continue\n",
    "\n",
    "        pts = ann[\"points\"]\n",
    "        x = [p[0] for p in pts]\n",
    "        y = [p[1] for p in pts]\n",
    "        xmin, xmax = min(x), max(x)\n",
    "        ymin, ymax = min(y), max(y)\n",
    "        w, h = xmax - xmin, ymax - ymin\n",
    "\n",
    "        coco[\"annotations\"].append({\n",
    "            \"id\": annotation_id,\n",
    "            \"image_id\": image_id,\n",
    "            \"category_id\": label_map[label],\n",
    "            \"bbox\": [xmin, ymin, w, h],\n",
    "            \"area\": w * h,\n",
    "            \"iscrowd\": 0\n",
    "        })\n",
    "        annotation_id += 1\n",
    "    image_id += 1"
   ]
  },
  {
   "cell_type": "code",
   "execution_count": 11,
   "id": "d6c84f6f",
   "metadata": {},
   "outputs": [
    {
     "name": "stderr",
     "output_type": "stream",
     "text": [
      "100%|██████████| 877/877 [00:37<00:00, 23.41it/s]\n"
     ]
    }
   ],
   "source": [
    "# 🔹 XML 처리 (VOC)\n",
    "for xml_path in tqdm(xml_dir):\n",
    "    root = ET.parse(xml_path).getroot()\n",
    "    file_name = root.findtext(\"filename\")\n",
    "    width = int(root.find(\"size/width\").text)\n",
    "    height = int(root.find(\"size/height\").text)\n",
    "\n",
    "    coco[\"images\"].append({\n",
    "        \"id\": image_id,\n",
    "        \"file_name\": file_name,\n",
    "        \"width\": width,\n",
    "        \"height\": height\n",
    "    })\n",
    "\n",
    "    image_path = root_dir + \"/\" + file_name\n",
    "    image = cv2.imread(str(image_path))\n",
    "\n",
    "    for obj in root.findall(\"object\"):\n",
    "        name = obj.findtext(\"name\")\n",
    "        if name == \"speedlimit\":\n",
    "            box = obj.find(\"bndbox\")\n",
    "            xmin = int(box.find(\"xmin\").text)\n",
    "            ymin = int(box.find(\"ymin\").text)\n",
    "            xmax = int(box.find(\"xmax\").text)\n",
    "            ymax = int(box.find(\"ymax\").text)\n",
    "            cropped = image[ymin:ymax, xmin:xmax]\n",
    "\n",
    "            if cropped is None or cropped.size == 0 or cropped.shape[0] < 5 or cropped.shape[1] < 5:\n",
    "                continue\n",
    "            \n",
    "            results = reader.readtext(cropped)\n",
    "            detected_text = ''.join([res[1] for res in results])\n",
    "\n",
    "            if \"60\" in detected_text:\n",
    "                label = \"60제한\"\n",
    "            elif \"30\" in detected_text:\n",
    "                label = \"30제한\"\n",
    "            else:\n",
    "                continue\n",
    "        else:\n",
    "            continue  # 다른 라벨은 무시\n",
    "\n",
    "        w, h = xmax - xmin, ymax - ymin\n",
    "        coco[\"annotations\"].append({\n",
    "            \"id\": annotation_id,\n",
    "            \"image_id\": image_id,\n",
    "            \"category_id\": label_map[label],\n",
    "            \"bbox\": [xmin, ymin, w, h],\n",
    "            \"area\": w * h,\n",
    "            \"iscrowd\": 0\n",
    "        })\n",
    "        annotation_id += 1\n",
    "\n",
    "    image_id += 1"
   ]
  },
  {
   "cell_type": "code",
   "execution_count": 13,
   "id": "b53cb19c",
   "metadata": {},
   "outputs": [],
   "source": [
    "# 🔸 8:2 train/val 분리\n",
    "random.shuffle(coco[\"images\"])\n",
    "split_idx = int(len(coco[\"images\"]) * split_ratio)\n",
    "train_imgs = coco[\"images\"][:split_idx]\n",
    "val_imgs = coco[\"images\"][split_idx:]\n",
    "\n",
    "train_ids = {img[\"id\"] for img in train_imgs}\n",
    "val_ids = {img[\"id\"] for img in val_imgs}\n",
    "train_anns = [a for a in coco[\"annotations\"] if a[\"image_id\"] in train_ids]\n",
    "val_anns = [a for a in coco[\"annotations\"] if a[\"image_id\"] in val_ids]\n",
    "\n",
    "# 🔸 JSON 저장\n",
    "with open(output_dir + \"/test/train.json\", \"w\", encoding=\"utf-8\") as f:\n",
    "    json.dump({\"images\": train_imgs, \"annotations\": train_anns, \"categories\": coco[\"categories\"]}, f, indent=4, ensure_ascii=False)\n",
    "\n",
    "with open(output_dir + \"/test/val.json\", \"w\", encoding=\"utf-8\") as f:\n",
    "    json.dump({\"images\": val_imgs, \"annotations\": val_anns, \"categories\": coco[\"categories\"]}, f, indent=4, ensure_ascii=False)"
   ]
  },
  {
   "cell_type": "code",
   "execution_count": 34,
   "id": "170b1d7d",
   "metadata": {},
   "outputs": [
    {
     "name": "stderr",
     "output_type": "stream",
     "text": [
      "100%|██████████| 6384/6384 [01:18<00:00, 81.27it/s] \n",
      "100%|██████████| 1597/1597 [00:23<00:00, 69.18it/s] \n"
     ]
    }
   ],
   "source": [
    "# 🔸 이미지 복사\n",
    "def copy_images(image_list, dest_dir):\n",
    "    for img in tqdm(image_list):\n",
    "        src = \"/home/pepsi/Downloads/mmdetection_data/\" + img[\"file_name\"]\n",
    "        dst = dest_dir + \"/\" + img[\"file_name\"]\n",
    "        shutil.copyfile(src, dst)\n",
    "\n",
    "copy_images(train_imgs, train_img_dir)\n",
    "copy_images(val_imgs, val_img_dir)"
   ]
  }
 ],
 "metadata": {
  "kernelspec": {
   "display_name": "addin-taxi",
   "language": "python",
   "name": "python3"
  },
  "language_info": {
   "codemirror_mode": {
    "name": "ipython",
    "version": 3
   },
   "file_extension": ".py",
   "mimetype": "text/x-python",
   "name": "python",
   "nbconvert_exporter": "python",
   "pygments_lexer": "ipython3",
   "version": "3.12.3"
  }
 },
 "nbformat": 4,
 "nbformat_minor": 5
}
